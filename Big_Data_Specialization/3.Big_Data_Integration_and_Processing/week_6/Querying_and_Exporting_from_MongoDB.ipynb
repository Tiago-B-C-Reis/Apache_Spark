{
 "cells": [
  {
   "cell_type": "code",
   "execution_count": null,
   "id": "0d2729f1",
   "metadata": {},
   "outputs": [],
   "source": [
    "# Query 1: How many tweets have location not null?\n",
    "\n",
    "# Query 2: How many people have more followers than friends?\n",
    "\n",
    "# Query 3: Return text of tweets which have the string \"http://\" ?\n",
    "\n",
    "# Query 4: Return all the tweets which contain text \"England\" but not \"UEFA\" ?\n",
    "\n",
    "# Query 5: Get all the tweets from the location \"Ireland\" and contains the string \"UEFA\"? "
   ]
  },
  {
   "cell_type": "code",
   "execution_count": null,
   "id": "4a46dafe",
   "metadata": {},
   "outputs": [],
   "source": [
    "# Initialize mongodb on Ubuntu.\n",
    "# Create database called \"twitter\"\n",
    "use twitter\n",
    "# create collection called \"week6\"\n",
    "db.createCollection(\"week6\")\n",
    "# Import the \"twitter.json\" file to the mondoDB: \n",
    "# (the collection \"week6\" is going to inherit the content of the content of \"twitter.json\")\n",
    "mongoimport --db twitter --collection week6 --file /home/tiagor/Desktop/coursera-master/big-data-3/twitter.json"
   ]
  },
  {
   "cell_type": "code",
   "execution_count": null,
   "id": "74363739",
   "metadata": {},
   "outputs": [],
   "source": [
    "# simple querys:\n",
    "db.week6.findOne()\n",
    "db.week6.distinct(\"Location\")\n",
    "db.week6.distinct(\"user_name\")"
   ]
  },
  {
   "cell_type": "code",
   "execution_count": null,
   "id": "27b95b77",
   "metadata": {},
   "outputs": [],
   "source": [
    "_id, user_name, retweet_count, tweet_followers_count, source, coordinates, tweet_mentioned_count, tweet_ID, tweet_text, user.CreatedAt, user.FavouritesCount, user.FollowersCount, user.FriendsCount, user.UserId, user.Location"
   ]
  },
  {
   "cell_type": "code",
   "execution_count": null,
   "id": "1d5f7565",
   "metadata": {},
   "outputs": [],
   "source": [
    "# Query 1:\n",
    "> db.week6.countDocuments({ \"user.Location\": { $ne: null } })\n",
    "# Result:\n",
    "6937\n",
    "\n",
    "# Export query to a csv file: (db.week6.find({ \"user.Location\": { $ne: null } }))\n",
    "mongoexport --db twitter --collection week6 --query '{ \"user.Location\": { \"$ne\": null } }' --type=csv --fields _user.Location --out /home/tiagor/Desktop/coursera-master/big-data-3/week_6/query_01.csv\n",
    "mongoexport --uri \"mongodb://localhost/twitter\" --collection week6 --query '{ \"user.Location\": { \"$ne\": null } }' --type=csv --fields \"_id,user_name,retweet_count,tweet_followers_count,source,coordinates,tweet_mentioned_count,tweet_ID,tweet_text,user.CreatedAt,user.FavouritesCount,user.FollowersCount,user.FriendsCount,user.UserId,user.Location\" --out /home/tiagor/Desktop/coursera-master/big-data-3/week_6/query_1.csv"
   ]
  },
  {
   "cell_type": "code",
   "execution_count": null,
   "id": "4d3c1229",
   "metadata": {},
   "outputs": [],
   "source": [
    "# Query 2:\n",
    "> db.week6.find({ $expr: { $gt: [\"$tweet_followers_count\", \"$user.FriendsCount\"] } }).count()\n",
    "# Result:\n",
    "5809\n",
    "\n",
    "# Export query to a csv file:\n",
    "mongoexport --uri \"mongodb://localhost/twitter\" --collection week6 --query '{ \"$expr\": { \"$gt\": [\"$tweet_followers_count\", \"$user.FriendsCount\"] } }' --type=csv --fields \"_id,user_name,retweet_count,tweet_followers_count,source,coordinates,tweet_mentioned_count,tweet_ID,tweet_text,user.CreatedAt,user.FavouritesCount,user.FollowersCount,user.FriendsCount,user.UserId,user.Location\" --out /home/tiagor/Desktop/coursera-master/big-data-3/week_6/query_2.csv\n"
   ]
  },
  {
   "cell_type": "code",
   "execution_count": null,
   "id": "c31940f7",
   "metadata": {},
   "outputs": [],
   "source": [
    "# Query 3: \n",
    "# simpler answer: (return all the output of \"tweet_text\"):\n",
    "> db.week6.find({ tweet_text: { $regex: /http:/i } }, { tweet_text: 1, _id: 0 })\n",
    "# complex answer: (return the output of \"tweet_text\" until the first \":\" appears):\n",
    "db.week6.aggregate([\n",
    "  {\n",
    "    $match: {\n",
    "      tweet_text: { $regex: /http:/i }\n",
    "    }\n",
    "  },\n",
    "  {\n",
    "    $project: {\n",
    "      _id: 0,\n",
    "      tweet_text: {\n",
    "        $trim: {\n",
    "          input: {\n",
    "            $substr: [\n",
    "              \"$tweet_text\",\n",
    "              0,\n",
    "              {\n",
    "                $indexOfBytes: [\"$tweet_text\", \":\"]\n",
    "              }\n",
    "            ]\n",
    "          }\n",
    "        }\n",
    "      }\n",
    "    }\n",
    "  }\n",
    "])\n",
    "\n",
    "\n",
    "# Result:\n",
    "{ \"tweet_text\" : \"RT @BWGotheem\" }\n",
    "{ \"tweet_text\" : \"RT @TerraceImages\" }\n",
    "{ \"tweet_text\" : \"http\" }\n",
    "{ \"tweet_text\" : \"RT @espn\" }\n",
    "{ \"tweet_text\" : \"RT @espn\" }\n",
    "{ \"tweet_text\" : \"RT @newfy320\" }\n",
    "{ \"tweet_text\" : \"RT @izzy5115\" }\n",
    "{ \"tweet_text\" : \"RT @Ass0Star\" }\n",
    "{ \"tweet_text\" : \"RT @FootyFunnysUK\" }\n",
    "{ \"tweet_text\" : \"RT @trevorphibbs\" }\n",
    "\n",
    "# Export query to a csv file:\n",
    "mongoexport --db twitter --collection week6 --query '{ \"tweet_text\": { \"$regex\": \"http://\", \"$options\": \"i\" } }' --type=csv --fields \"tweet_text\" --out /home/tiagor/Desktop/coursera-master/big-data-3/week_6/query_03.csv\n",
    "mongoexport --uri \"mongodb://localhost/twitter\" --collection week6 --query '{ \"tweet_text\": { \"$regex\": \"http://\", \"$options\": \"i\" } }' --type=csv --fields \"_id,user_name,retweet_count,tweet_followers_count,source,coordinates,tweet_mentioned_count,tweet_ID,tweet_text,user.CreatedAt,user.FavouritesCount,user.FollowersCount,user.FriendsCount,user.UserId,user.Location\" --out /home/tiagor/Desktop/coursera-master/big-data-3/week_6/query_3.csv\n"
   ]
  },
  {
   "cell_type": "code",
   "execution_count": null,
   "id": "175ac537",
   "metadata": {},
   "outputs": [],
   "source": [
    "# Query 4:\n",
    "# simpler answer: (return all the output of \"tweet_text\"):\n",
    "> db.week6.find({$and: [{ tweet_text: {$regex: /England/i}}, {tweet_text: {$not: /UEFA/i}} ] }, {tweet_text: 1, _id: 0})\n",
    "# complex answer: (return the output of \"tweet_text\" that contins \"Euro 2016\" and count them):\n",
    "db.week6.find(\n",
    "  {\n",
    "    $and: [\n",
    "      { tweet_text: { $regex: /England/i } },\n",
    "      { tweet_text: { $not: /UEFA/i } }\n",
    "    ]\n",
    "  },\n",
    "  { tweet_text: 1, _id: 0 }\n",
    ").forEach(function(doc) {\n",
    "  var count = (doc.tweet_text.match(/Euro 2016/gi) || []).length;\n",
    "  print(\"Occurrences of 'Euro 2016':\", count);\n",
    "})\n",
    "\n",
    "\n",
    "# Result:\n",
    "# In these results the string “Euro 2016” appears in: 2 tweests\n",
    "\n",
    "# Export query to a csv file:\n",
    "mongoexport --db twitter --collection week6 --query '{ \"tweet_text\": { \"$regex\": \"England\", \"$options\": \"i\", \"$not\": { \"$regex\": \"UEFA\", \"$options\": \"i\" } } }' --type=csv --fields tweet_text --out /home/tiagor/Desktop/coursera-master/big-data-3/week_6/query_04.csv\n",
    "mongoexport --uri \"mongodb://localhost/twitter\" --collection week6 --query '{ \"tweet_text\": { \"$regex\": \"England\", \"$options\": \"i\", \"$not\": { \"$regex\": \"UEFA\", \"$options\": \"i\" } } }' --type=csv --fields \"_id,user_name,retweet_count,tweet_followers_count,source,coordinates,tweet_mentioned_count,tweet_ID,tweet_text,user.CreatedAt,user.FavouritesCount,user.FollowersCount,user.FriendsCount,user.UserId,user.Location\" --out /home/tiagor/Desktop/coursera-master/big-data-3/week_6/query_4.csv\n"
   ]
  },
  {
   "cell_type": "code",
   "execution_count": null,
   "id": "f2bdb1ef",
   "metadata": {},
   "outputs": [],
   "source": [
    "# Query 5:\n",
    "> db.week6.find(\n",
    "  {\n",
    "    $and: [\n",
    "      { \"user.Location\": \"Ireland\" },\n",
    "      { tweet_text: { $regex: /UEFA/i } }\n",
    "    ]\n",
    "  },\n",
    ")\n",
    "\n",
    "\n",
    "# Result:\n",
    "{ \"_id\" : ObjectId(\"578ffc547eb951401527b5da\"), \"user_name\" : \"ProfitwatchInfo\", \"retweet_count\" : 0, \"tweet_followers_count\" : 602, \"source\" : \"<a href=\\\"http://twitter.com/download/android\\\" rel=\\\"nofollow\\\">Twitter for Android</a>\", \"coordinates\" : null, \"tweet_mentioned_count\" : 1, \"tweet_ID\" : \"755893533047914498\", \"tweet_text\" : \"RT @DundalkFC: Full Time FH 2-2 Dundalk, Dundalk qualify to the next round of the UEFA Champions League!\", \"user\" : { \"CreatedAt\" : ISODate(\"2016-03-31T19:06:24Z\"), \"FavouritesCount\" : 1456, \"FollowersCount\" : 602, \"FriendsCount\" : 2381, \"UserId\" : -552161280, \"Location\" : \"Ireland\" } }\n",
    "{ \"_id\" : ObjectId(\"578ffda17eb951401527b738\"), \"user_name\" : \"KillarneyKnight\", \"retweet_count\" : 0, \"tweet_followers_count\" : 956, \"source\" : \"<a href=\\\"http://twitter.com/download/android\\\" rel=\\\"nofollow\\\">Twitter for Android</a>\", \"coordinates\" : null, \"tweet_mentioned_count\" : 1, \"tweet_ID\" : \"755894929071702020\", \"tweet_text\" : \"RT @DundalkFC: Full Time FH 2-2 Dundalk, Dundalk qualify to the next round of the UEFA Champions League!\", \"user\" : { \"CreatedAt\" : ISODate(\"2011-02-04T14:44:10Z\"), \"FavouritesCount\" : 3015, \"FollowersCount\" : 956, \"FriendsCount\" : 2277, \"UserId\" : 247307380, \"Location\" : \"Ireland\" } }\n",
    "{ \"_id\" : ObjectId(\"57965ef5c38159118f94f8ae\"), \"user_name\" : \"leedsfc9\", \"retweet_count\" : 0, \"tweet_followers_count\" : 1380, \"source\" : \"<a href=\\\"http://twitter.com/download/android\\\" rel=\\\"nofollow\\\">Twitter for Android</a>\", \"coordinates\" : null, \"tweet_mentioned_count\" : 2, \"tweet_ID\" : \"757648699917033477\", \"tweet_text\" : \"@brooughy26 @AstonVillaMedia Birmingham I guess once won the League Cup and little Fulham UEFA Cup final + Ipswich Historically Bobby Robson\", \"user\" : { \"CreatedAt\" : ISODate(\"2014-05-27T16:54:33Z\"), \"FavouritesCount\" : 14568, \"FollowersCount\" : 1380, \"FriendsCount\" : 802, \"UserId\" : -1727442750, \"Location\" : \"Ireland\" } }\n",
    "{ \"_id\" : ObjectId(\"57966dc0c38159201ca7f637\"), \"user_name\" : \"Insight4News4\", \"retweet_count\" : 0, \"tweet_followers_count\" : 358, \"source\" : \"<a href=\\\"http://insight4news.ucd.ie\\\" rel=\\\"nofollow\\\">insight4news4</a>\", \"coordinates\" : null, \"tweet_mentioned_count\" : 0, \"tweet_ID\" : \"757664582127288321\", \"tweet_text\" : \"Liverpool fined by UEFA for Europa League final crowd trouble #liverpool https://t.co/vuC4Xesdl9\", \"user\" : { \"CreatedAt\" : ISODate(\"2015-03-23T15:48:32Z\"), \"FavouritesCount\" : 0, \"FollowersCount\" : 358, \"FriendsCount\" : 0, \"UserId\" : -1187124583, \"Location\" : \"Ireland\" } }\n",
    "# the \"user_name\" = ProfitwatchInfo\" is the one with the higher \"FriendsCount\".\n",
    "\n",
    "# Export query to a csv file:\n",
    "mongoexport --db twitter --collection week6 --query '{ \"$and\": [{ \"user.Location\": \"Ireland\" }, { \"tweet_text\": { \"$regex\": \"UEFA\", \"$options\": \"i\" } }] }' --type=csv --fields \"tweet_text\" --out /home/tiagor/Desktop/coursera-master/big-data-3/week_6/query_05.csv\n",
    "mongoexport --uri \"mongodb://localhost/twitter\" --collection week6 --query '{ \"$and\": [{ \"user.Location\": \"Ireland\" }, { \"tweet_text\": { \"$regex\": \"UEFA\", \"$options\": \"i\" } }] }' --type=csv --fields \"_id,user_name,retweet_count,tweet_followers_count,source,coordinates,tweet_mentioned_count,tweet_ID,tweet_text,user.CreatedAt,user.FavouritesCount,user.FollowersCount,user.FriendsCount,user.UserId,user.Location\" --out /home/tiagor/Desktop/coursera-master/big-data-3/week_6/query_5.csv\n"
   ]
  },
  {
   "cell_type": "code",
   "execution_count": null,
   "id": "6513a399",
   "metadata": {},
   "outputs": [],
   "source": [
    "# Create the tweet_text.csv file necessary for the secound part of the week_6 project.\n",
    "\n",
    "# Query to find all the tweet_text values:\n",
    "> db.week6.find({}, { \"tweet_text\": 1, _id: 0})\n",
    "\n",
    "# Export query to a csv file:\n",
    "mongoexport --db twitter --collection week6 --query '{ \"tweet_text\": { \"$exists\": true } }' --type=csv --fields \"tweet_text\" --out /home/tiagor/PycharmProjects/Apache_Spark_Projects_and_Courses/Big_Data_Integration_and_Processing_exercises/week_6/tweet_text.csv\n"
   ]
  }
 ],
 "metadata": {
  "kernelspec": {
   "display_name": "Python 3 (ipykernel)",
   "language": "python",
   "name": "python3"
  },
  "language_info": {
   "codemirror_mode": {
    "name": "ipython",
    "version": 3
   },
   "file_extension": ".py",
   "mimetype": "text/x-python",
   "name": "python",
   "nbconvert_exporter": "python",
   "pygments_lexer": "ipython3",
   "version": "3.10.6"
  }
 },
 "nbformat": 4,
 "nbformat_minor": 5
}
