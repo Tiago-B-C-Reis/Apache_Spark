{
 "cells": [
  {
   "cell_type": "code",
   "execution_count": 1,
   "metadata": {},
   "outputs": [],
   "source": []
  },
  {
   "cell_type": "code",
   "execution_count": null,
   "metadata": {},
   "outputs": [],
   "source": [
    "import pandas as pd\n",
    "from pyspark.sql import SparkSession\n",
    "from pyspark.ml.clustering import KMeans\n",
    "from pyspark.ml.feature import VectorAssembler, StandardScaler\n",
    "from pyspark.ml.evaluation import ClusteringEvaluator\n",
    "from notebooks import utils"
   ]
  },
  {
   "cell_type": "code",
   "execution_count": null,
   "metadata": {},
   "outputs": [],
   "source": [
    "spark = SparkSession.builder.appName('cluster_analysis').getOrCreate()\n",
    "\n",
    "# Import data set:\n",
    "df = spark.read.csv('minute_weather.csv', inferSchema=True, header=True)\n",
    "\n",
    "\n",
    "# Subset and remove unused data\n",
    "print(\"Total nº of rows = \", df.count())\n",
    "\n",
    "# Compute the statistical summary\n",
    "summary_df = df.describe()\n",
    "# Convert to Pandas DataFrame and display\n",
    "pd.set_option('display.max_rows', None)  # To display all rows\n",
    "pd.set_option('display.max_columns', None)  # To display all columns\n",
    "print(\"\\nStatistics summary:\\n\", summary_df.toPandas().transpose())\n",
    "\n",
    "print(\"How many values of 'rain_accumulation' are iqual to 0 = \", df.filter(df.rain_accumulation == 0.0).count())\n",
    "print(\"How many values of 'rain_duration' are iqual to 0 = \", df.filter(df.rain_duration == 0.0).count())\n",
    "\n",
    "# Since almost of the above rows are zero, let's drop those columns\n",
    "# and also drop 'hpwren_timestamp' since it's not used here:\n",
    "workingDF = df.drop(\"rain_accumulation\").drop(\"rain_duration\").drop(\"hpwren_timestamp\")\n",
    "\n",
    "# drop rows with missing values and count how many rows were dropped:\n",
    "before = workingDF.count()\n",
    "workingDF = df.na.drop()\n",
    "after = workingDF.count()\n",
    "print(\"\\nNº of rows before 'na.drop' - Nº of rows after 'na.drop' = \", before - after)\n",
    "\n",
    "# Create a data frame to use on the scale feature:\n",
    "print(workingDF.columns)\n",
    "featuresUsed = ['air_pressure', 'air_temp', 'avg_wind_direction', 'avg_wind_speed',\n",
    "                'max_wind_direction', 'max_wind_speed', 'relative_humidity']\n",
    "assembler = VectorAssembler(inputCols=featuresUsed, outputCol=\"features_unscaled\")\n",
    "assembled = assembler.transform(workingDF)\n",
    "\n",
    "# StandardScaler to scale the data:\n",
    "scaler = StandardScaler(inputCol=\"features_unscaled\", outputCol=\"features\", withStd=True, withMean=True)\n",
    "scalerModel = scaler.fit(assembled)\n",
    "scaledData = scalerModel.transform(assembled)\n",
    "scaledData.show(5)\n",
    "\n",
    "\n",
    "# # Create elbow plot:\n",
    "# In order to find the optimal 'K' for the k-means, we are going to apply k-means using different values for k,\n",
    "# and calculating the within-cluster sum-of-squared error (WSSE).\n",
    "# Create elbow plot to find optimal k for K-means\n",
    "cluster = range(2, 31)  # Run k from 2 to 30"
   ]
  },
  {
   "cell_type": "code",
   "execution_count": 2,
   "metadata": {},
   "outputs": [],
   "source": [
    "sqlContext = SQLContext(sc)\n",
    "df = sqlContext.read.load('file:///home/cloudera/Downloads/big-data-4/minute_weather.csv', \n",
    "                          format='com.databricks.spark.csv', \n",
    "                          header='true',inferSchema='true')"
   ]
  }
 ],
 "metadata": {
  "kernelspec": {
   "display_name": "Python 3 (ipykernel)",
   "language": "python",
   "name": "python3"
  },
  "language_info": {
   "codemirror_mode": {
    "name": "ipython",
    "version": 3
   },
   "file_extension": ".py",
   "mimetype": "text/x-python",
   "name": "python",
   "nbconvert_exporter": "python",
   "pygments_lexer": "ipython3",
   "version": "3.10.6"
  }
 },
 "nbformat": 4,
 "nbformat_minor": 1
}
